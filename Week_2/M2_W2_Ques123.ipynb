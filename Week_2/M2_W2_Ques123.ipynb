{
 "cells": [
  {
   "cell_type": "code",
   "execution_count": 12,
   "metadata": {},
   "outputs": [
    {
     "name": "stdout",
     "output_type": "stream",
     "text": [
      "23.28\n"
     ]
    }
   ],
   "source": [
    "### Question 1 \n",
    "\n",
    "import numpy as np\n",
    "\n",
    "# Length of a vector\n",
    "def compute_vector_length(vector):\n",
    "  len_of_vector = np.linalg.norm(vector)\n",
    "\n",
    "  return len_of_vector\n",
    "\n",
    "vector = np.array ([-2, 4, 9, 21])\n",
    "result = compute_vector_length ([vector])\n",
    "print(round(result,2))\n",
    "\n"
   ]
  },
  {
   "cell_type": "code",
   "execution_count": 13,
   "metadata": {},
   "outputs": [
    {
     "name": "stdout",
     "output_type": "stream",
     "text": [
      "4\n"
     ]
    }
   ],
   "source": [
    "# Dot product\n",
    "def compute_dot_product(vector1, vector2):\n",
    "  result = np.dot(vector1, vector2)\n",
    "\n",
    "  return result\n",
    "\n",
    "v1 = np.array ([0,1,-1,2])\n",
    "v2 = np.array ([2,5,1,0])\n",
    "result = compute_dot_product (v1,v2)\n",
    "print(round(result,2))"
   ]
  },
  {
   "cell_type": "code",
   "execution_count": 18,
   "metadata": {},
   "outputs": [
    {
     "name": "stdout",
     "output_type": "stream",
     "text": [
      "result \n",
      " [ 5 11]\n",
      "result \n",
      " [ 3 -5]\n",
      "result \n",
      " [3 1]\n"
     ]
    }
   ],
   "source": [
    "# Multiplying a vector by a matrix\n",
    "def matrix_multi_vector(matrix, vector):\n",
    "  result = np.dot(matrix, vector)\n",
    "  return result\n",
    "\n",
    "x = np.array ([[1,2],[3,4]])\n",
    "k = np.array ([1,2])\n",
    "print('result1 \\n',x.dot (k))\n",
    "\n",
    "x = np.array ([[ -1 , 2],[3, -4]])\n",
    "k = np.array ([1 , 2])\n",
    "print('result2 \\n', x@k)\n",
    "\n",
    "m = np.array ([[-1,1,1], [0,-4,9]])\n",
    "v = np.array ([0,2,1])\n",
    "result = matrix_multi_vector(m,v)\n",
    "print('result3 \\n', result)"
   ]
  },
  {
   "cell_type": "code",
   "execution_count": 22,
   "metadata": {},
   "outputs": [
    {
     "name": "stdout",
     "output_type": "stream",
     "text": [
      "[[  6  -1]\n",
      " [-16 -10]]\n",
      "[[1. 1. 1.]\n",
      " [2. 2. 2.]\n",
      " [3. 3. 3.]]\n",
      "[5. 5. 5. 5.]\n",
      "[29 29 29 29]\n"
     ]
    }
   ],
   "source": [
    "# Multiplying a matrix by a matrix\n",
    "def matrix_multi_matrix(matrix1, matrix2):\n",
    "  result = np.dot(matrix1, matrix2)\n",
    "  return result\n",
    "\n",
    "m1 = np.array([[0,1,2], [2,-3,1]])\n",
    "m2 = np.array([[1,-3],[6,1],[0,-1]])\n",
    "result = matrix_multi_matrix(m1 , m2)\n",
    "print (result)\n",
    "\n",
    "m1 = np.eye(3)\n",
    "m2 = np.array([[1,1,1],[2,2,2], [3,3,3]])\n",
    "result = m1@m2\n",
    "print ( result )\n",
    "\n",
    "m1 = np.eye (2)\n",
    "m1 = np.reshape (m1,(-1 ,4))[0]\n",
    "m2 = np.array ([[1,1,1,1] ,[2,2,2,2],[3,3,3,3],[4,4,4,4]])\n",
    "result = m1@m2\n",
    "print (result)\n",
    "\n",
    "\n",
    "m1 = np.array ([[1,2],[3,4]])\n",
    "m1 = np.reshape(m1,(-1,4) ,\"F\")[0]\n",
    "m2 = np.array ([[1,1,1,1] ,[2,2,2,2],[3,3,3,3],[4,4,4,4]])\n",
    "result = m1@m2\n",
    "print(result)\n"
   ]
  },
  {
   "cell_type": "code",
   "execution_count": 23,
   "metadata": {},
   "outputs": [
    {
     "name": "stdout",
     "output_type": "stream",
     "text": [
      "[[0.1  0.15]\n",
      " [0.2  0.05]]\n"
     ]
    }
   ],
   "source": [
    "# Matrix inverse\n",
    "def inverse_matrix(matrix):\n",
    "  result = np.linalg.inv(matrix)\n",
    "  return result\n",
    "\n",
    "m1 = np.array([[-2,6],[8,-4]])\n",
    "result = inverse_matrix(m1)\n",
    "print(result)"
   ]
  },
  {
   "cell_type": "code",
   "execution_count": 24,
   "metadata": {},
   "outputs": [
    {
     "name": "stdout",
     "output_type": "stream",
     "text": [
      "[[ 0.89442719 -0.70710678]\n",
      " [ 0.4472136   0.70710678]]\n"
     ]
    }
   ],
   "source": [
    "# Question 2 - Eigenvector and Eigenvalue\n",
    "\n",
    "def compute_eigenvalues_eigenvectors(matrix):\n",
    "  eigenvalues, eigenvectors = np.linalg.eig(matrix)\n",
    "  return eigenvalues,eigenvectors\n",
    "\n",
    "matrix = np.array([[0.9,0.2],[0.1,0.8]])\n",
    "eigenvalues,eigenvectors = compute_eigenvalues_eigenvectors(matrix)\n",
    "print(eigenvectors)"
   ]
  },
  {
   "cell_type": "code",
   "execution_count": 25,
   "metadata": {},
   "outputs": [
    {
     "name": "stdout",
     "output_type": "stream",
     "text": [
      "0.577\n"
     ]
    }
   ],
   "source": [
    "# Question 3 - Cosine Similarity\n",
    "\n",
    "def compute_cosine(v1, v2):\n",
    "  cos_sim = compute_dot_product(v1,v2) / (compute_vector_length(v1)*compute_vector_length(v2))\n",
    "\n",
    "  return cos_sim\n",
    "\n",
    "x = np.array ([1,2,3,4])\n",
    "y = np.array ([1,0,3,0])\n",
    "result = compute_cosine(x,y)\n",
    "print (round(result,3))\n"
   ]
  },
  {
   "cell_type": "code",
   "execution_count": null,
   "metadata": {},
   "outputs": [],
   "source": []
  }
 ],
 "metadata": {
  "kernelspec": {
   "display_name": "Python 3",
   "language": "python",
   "name": "python3"
  },
  "language_info": {
   "codemirror_mode": {
    "name": "ipython",
    "version": 3
   },
   "file_extension": ".py",
   "mimetype": "text/x-python",
   "name": "python",
   "nbconvert_exporter": "python",
   "pygments_lexer": "ipython3",
   "version": "3.10.14"
  }
 },
 "nbformat": 4,
 "nbformat_minor": 2
}
